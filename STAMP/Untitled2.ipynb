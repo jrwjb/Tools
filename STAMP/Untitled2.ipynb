{
 "cells": [
  {
   "cell_type": "code",
   "execution_count": 118,
   "metadata": {},
   "outputs": [
    {
     "data": {
      "text/plain": [
       "rec.array([('Pat', 0), ('Pat', 0), ('Pat', 0), ('Pat', 0), ('Pat', 0),\n",
       "           ('Pat', 0), ('Jack', 0), ('Jack', 0), ('Jack', 0), ('Jack', 0),\n",
       "           ('Jack', 0), ('Jack', 0), ('Alex', 0), ('Alex', 0),\n",
       "           ('Alex', 0), ('Alex', 0), ('Alex', 0), ('Alex', 0)],\n",
       "          dtype=[('Archer', '<U5'), ('Score', '<i8')])"
      ]
     },
     "execution_count": 118,
     "metadata": {},
     "output_type": "execute_result"
    }
   ],
   "source": [
    "import numpy as np\n",
    "from scipy import stats\n",
    " \n",
    "data = np.rec.array([\n",
    "('Pat', 0),\n",
    "('Pat', 0),\n",
    "('Pat', 0),\n",
    "('Pat', 0),\n",
    "('Pat', 0),\n",
    "('Pat', 0),\n",
    "('Jack', 0),\n",
    "('Jack', 0),\n",
    "('Jack', 0),\n",
    "('Jack', 0),\n",
    "('Jack', 0),\n",
    "('Jack', 0),\n",
    "('Alex', 0),\n",
    "('Alex', 0),\n",
    "('Alex', 0),\n",
    "('Alex', 0),\n",
    "('Alex', 0),\n",
    "('Alex', 0)], dtype = [('Archer','|U5'),('Score', '<i8')])\n",
    " \n",
    "data\n"
   ]
  },
  {
   "cell_type": "code",
   "execution_count": 119,
   "metadata": {},
   "outputs": [
    {
     "data": {
      "text/plain": [
       "array(['Pat', 'Pat', 'Pat', 'Pat', 'Pat', 'Pat', 'Jack', 'Jack', 'Jack',\n",
       "       'Jack', 'Jack', 'Jack', 'Alex', 'Alex', 'Alex', 'Alex', 'Alex',\n",
       "       'Alex'], dtype='<U5')"
      ]
     },
     "execution_count": 119,
     "metadata": {},
     "output_type": "execute_result"
    }
   ],
   "source": [
    "data['Score']\n",
    "data['Archer']"
   ]
  },
  {
   "cell_type": "code",
   "execution_count": 120,
   "metadata": {},
   "outputs": [
    {
     "data": {
      "text/plain": [
       "[array([0, 0, 0, 0, 0, 0], dtype=int64),\n",
       " array([0, 0, 0, 0, 0, 0], dtype=int64),\n",
       " array([0, 0, 0, 0, 0, 0], dtype=int64)]"
      ]
     },
     "execution_count": 120,
     "metadata": {},
     "output_type": "execute_result"
    }
   ],
   "source": [
    "hh = []\n",
    "hh.append(data[data['Archer'] == 'Pat'].Score)\n",
    "hh.append(data[data['Archer'] == 'Jack'].Score)\n",
    "hh.append(data[data['Archer'] == 'Alex'].Score)\n",
    "hh\n",
    "\n"
   ]
  },
  {
   "cell_type": "code",
   "execution_count": 132,
   "metadata": {},
   "outputs": [
    {
     "data": {
      "text/plain": [
       "nan"
      ]
     },
     "execution_count": 132,
     "metadata": {},
     "output_type": "execute_result"
    }
   ],
   "source": [
    "p = stats.f_oneway(data[data['Archer'] == 'Pat'].Score,\n",
    "                      data[data['Archer'] == 'Jack'].Score,\n",
    "                      data[data['Archer'] == 'Alex'].Score)\n",
    "p[1]"
   ]
  },
  {
   "cell_type": "code",
   "execution_count": 107,
   "metadata": {},
   "outputs": [
    {
     "ename": "TypeError",
     "evalue": "list indices must be integers or slices, not str",
     "output_type": "error",
     "traceback": [
      "\u001b[1;31m---------------------------------------------------------------------------\u001b[0m",
      "\u001b[1;31mTypeError\u001b[0m                                 Traceback (most recent call last)",
      "\u001b[1;32m<ipython-input-107-1686b26b8a24>\u001b[0m in \u001b[0;36m<module>\u001b[1;34m\u001b[0m\n\u001b[0;32m      2\u001b[0m \u001b[1;32mfrom\u001b[0m \u001b[0mstatsmodels\u001b[0m\u001b[1;33m.\u001b[0m\u001b[0mstats\u001b[0m\u001b[1;33m.\u001b[0m\u001b[0mmulticomp\u001b[0m \u001b[1;32mimport\u001b[0m \u001b[0mMultiComparison\u001b[0m\u001b[1;33m\u001b[0m\u001b[1;33m\u001b[0m\u001b[0m\n\u001b[0;32m      3\u001b[0m \u001b[1;33m\u001b[0m\u001b[0m\n\u001b[1;32m----> 4\u001b[1;33m \u001b[0mmc\u001b[0m \u001b[1;33m=\u001b[0m \u001b[0mMultiComparison\u001b[0m\u001b[1;33m(\u001b[0m\u001b[0mdata\u001b[0m\u001b[1;33m[\u001b[0m\u001b[1;34m'Score'\u001b[0m\u001b[1;33m]\u001b[0m\u001b[1;33m,\u001b[0m \u001b[0mdata\u001b[0m\u001b[1;33m[\u001b[0m\u001b[1;34m'Archer'\u001b[0m\u001b[1;33m]\u001b[0m\u001b[1;33m)\u001b[0m\u001b[1;33m\u001b[0m\u001b[1;33m\u001b[0m\u001b[0m\n\u001b[0m\u001b[0;32m      5\u001b[0m \u001b[0mresult\u001b[0m \u001b[1;33m=\u001b[0m \u001b[0mmc\u001b[0m\u001b[1;33m.\u001b[0m\u001b[0mtukeyhsd\u001b[0m\u001b[1;33m(\u001b[0m\u001b[1;33m)\u001b[0m\u001b[1;33m\u001b[0m\u001b[1;33m\u001b[0m\u001b[0m\n\u001b[0;32m      6\u001b[0m \u001b[1;33m\u001b[0m\u001b[0m\n",
      "\u001b[1;31mTypeError\u001b[0m: list indices must be integers or slices, not str"
     ]
    }
   ],
   "source": [
    "from statsmodels.stats.multicomp import pairwise_tukeyhsd\n",
    "from statsmodels.stats.multicomp import MultiComparison\n",
    "\n",
    "mc = MultiComparison(data['Score'], data['Archer'])\n",
    "result = mc.tukeyhsd()\n",
    " \n",
    "print(result)"
   ]
  },
  {
   "cell_type": "code",
   "execution_count": 108,
   "metadata": {},
   "outputs": [
    {
     "data": {
      "text/plain": [
       "['Alex-Jack', 'Alex-Pat']"
      ]
     },
     "execution_count": 108,
     "metadata": {},
     "output_type": "execute_result"
    }
   ],
   "source": [
    "import pandas as pd\n",
    "data = result.summary().data\n",
    "g = ['-'.join(data[i][:2]) for i in range(1, 4) if data[i][3] < 0.05]\n",
    "g\n",
    "# data"
   ]
  }
 ],
 "metadata": {
  "kernelspec": {
   "display_name": "Python 3",
   "language": "python",
   "name": "python3"
  },
  "language_info": {
   "codemirror_mode": {
    "name": "ipython",
    "version": 3
   },
   "file_extension": ".py",
   "mimetype": "text/x-python",
   "name": "python",
   "nbconvert_exporter": "python",
   "pygments_lexer": "ipython3",
   "version": "3.7.6"
  }
 },
 "nbformat": 4,
 "nbformat_minor": 4
}
